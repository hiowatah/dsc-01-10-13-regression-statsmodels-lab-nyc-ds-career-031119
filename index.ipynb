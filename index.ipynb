{
 "cells": [
  {
   "cell_type": "markdown",
   "metadata": {},
   "source": [
    "# Ordinary Least Squares in Statsmodels (OLS) - Lab\n",
    "\n",
    "## Introduction\n",
    "\n",
    "In the previous code along, we looked all the requirements for running an ols simple regression using statsmodels. We worked with a toy example to understand the process and all the necessary steps that must be performed. In this lab , we shall look at a slightly more complex example to study the impact of spendings in different advertising channels of total sales.\n",
    "\n",
    "## Objectives\n",
    "\n",
    "You will be able to:\n",
    "* Set up an analytical question to be answered by regression analysis\n",
    "* Study regression assumptions for real world datasets\n",
    "* Visualize the results of regression analysis"
   ]
  },
  {
   "cell_type": "markdown",
   "metadata": {},
   "source": [
    "## Let's get started\n",
    "\n",
    "In this lab, we will work with the \"Advertising Dataset\" which is a very popular dataset for studying simple regression. [The dataset is available at Kaggle](https://www.kaggle.com/purbar/advertising-data), but we have already downloaded for you. It is available as \"Advertising.csv\". We shall use this dataset to ask ourselves a simple analytical question:\n",
    "\n",
    "## The Question\n",
    "\n",
    "Which advertising channel has a strong relationship with sales volume, and can be used to model and predict the sales. \n",
    "\n",
    "### Step 1: Read the dataset and inspect its columns and 5-point statistics"
   ]
  },
  {
   "cell_type": "code",
   "execution_count": 8,
   "metadata": {},
   "outputs": [],
   "source": [
    "# Load necessary libraries and import the data\n",
    "import pandas as pd\n",
    "import statsmodels.api\n",
    "from statsmodels.formula.api import ols\n",
    "import matplotlib.pyplot as plt"
   ]
  },
  {
   "cell_type": "code",
   "execution_count": 3,
   "metadata": {},
   "outputs": [
    {
     "data": {
      "text/html": [
       "<div>\n",
       "<style scoped>\n",
       "    .dataframe tbody tr th:only-of-type {\n",
       "        vertical-align: middle;\n",
       "    }\n",
       "\n",
       "    .dataframe tbody tr th {\n",
       "        vertical-align: top;\n",
       "    }\n",
       "\n",
       "    .dataframe thead th {\n",
       "        text-align: right;\n",
       "    }\n",
       "</style>\n",
       "<table border=\"1\" class=\"dataframe\">\n",
       "  <thead>\n",
       "    <tr style=\"text-align: right;\">\n",
       "      <th></th>\n",
       "      <th>TV</th>\n",
       "      <th>radio</th>\n",
       "      <th>newspaper</th>\n",
       "      <th>sales</th>\n",
       "    </tr>\n",
       "  </thead>\n",
       "  <tbody>\n",
       "    <tr>\n",
       "      <th>0</th>\n",
       "      <td>230.1</td>\n",
       "      <td>37.8</td>\n",
       "      <td>69.2</td>\n",
       "      <td>22.1</td>\n",
       "    </tr>\n",
       "    <tr>\n",
       "      <th>1</th>\n",
       "      <td>44.5</td>\n",
       "      <td>39.3</td>\n",
       "      <td>45.1</td>\n",
       "      <td>10.4</td>\n",
       "    </tr>\n",
       "    <tr>\n",
       "      <th>2</th>\n",
       "      <td>17.2</td>\n",
       "      <td>45.9</td>\n",
       "      <td>69.3</td>\n",
       "      <td>9.3</td>\n",
       "    </tr>\n",
       "    <tr>\n",
       "      <th>3</th>\n",
       "      <td>151.5</td>\n",
       "      <td>41.3</td>\n",
       "      <td>58.5</td>\n",
       "      <td>18.5</td>\n",
       "    </tr>\n",
       "    <tr>\n",
       "      <th>4</th>\n",
       "      <td>180.8</td>\n",
       "      <td>10.8</td>\n",
       "      <td>58.4</td>\n",
       "      <td>12.9</td>\n",
       "    </tr>\n",
       "  </tbody>\n",
       "</table>\n",
       "</div>"
      ],
      "text/plain": [
       "      TV  radio  newspaper  sales\n",
       "0  230.1   37.8       69.2   22.1\n",
       "1   44.5   39.3       45.1   10.4\n",
       "2   17.2   45.9       69.3    9.3\n",
       "3  151.5   41.3       58.5   18.5\n",
       "4  180.8   10.8       58.4   12.9"
      ]
     },
     "execution_count": 3,
     "metadata": {},
     "output_type": "execute_result"
    }
   ],
   "source": [
    "# Check the columns and first few rows\n",
    "df = pd.read_csv('Advertising.csv')\n",
    "df = df.drop('Unnamed: 0', axis = 1)\n",
    "df.head()"
   ]
  },
  {
   "cell_type": "code",
   "execution_count": 4,
   "metadata": {},
   "outputs": [
    {
     "data": {
      "text/html": [
       "<div>\n",
       "<style scoped>\n",
       "    .dataframe tbody tr th:only-of-type {\n",
       "        vertical-align: middle;\n",
       "    }\n",
       "\n",
       "    .dataframe tbody tr th {\n",
       "        vertical-align: top;\n",
       "    }\n",
       "\n",
       "    .dataframe thead th {\n",
       "        text-align: right;\n",
       "    }\n",
       "</style>\n",
       "<table border=\"1\" class=\"dataframe\">\n",
       "  <thead>\n",
       "    <tr style=\"text-align: right;\">\n",
       "      <th></th>\n",
       "      <th>TV</th>\n",
       "      <th>radio</th>\n",
       "      <th>newspaper</th>\n",
       "      <th>sales</th>\n",
       "    </tr>\n",
       "  </thead>\n",
       "  <tbody>\n",
       "    <tr>\n",
       "      <th>count</th>\n",
       "      <td>200.000000</td>\n",
       "      <td>200.000000</td>\n",
       "      <td>200.000000</td>\n",
       "      <td>200.000000</td>\n",
       "    </tr>\n",
       "    <tr>\n",
       "      <th>mean</th>\n",
       "      <td>147.042500</td>\n",
       "      <td>23.264000</td>\n",
       "      <td>30.554000</td>\n",
       "      <td>14.022500</td>\n",
       "    </tr>\n",
       "    <tr>\n",
       "      <th>std</th>\n",
       "      <td>85.854236</td>\n",
       "      <td>14.846809</td>\n",
       "      <td>21.778621</td>\n",
       "      <td>5.217457</td>\n",
       "    </tr>\n",
       "    <tr>\n",
       "      <th>min</th>\n",
       "      <td>0.700000</td>\n",
       "      <td>0.000000</td>\n",
       "      <td>0.300000</td>\n",
       "      <td>1.600000</td>\n",
       "    </tr>\n",
       "    <tr>\n",
       "      <th>25%</th>\n",
       "      <td>74.375000</td>\n",
       "      <td>9.975000</td>\n",
       "      <td>12.750000</td>\n",
       "      <td>10.375000</td>\n",
       "    </tr>\n",
       "    <tr>\n",
       "      <th>50%</th>\n",
       "      <td>149.750000</td>\n",
       "      <td>22.900000</td>\n",
       "      <td>25.750000</td>\n",
       "      <td>12.900000</td>\n",
       "    </tr>\n",
       "    <tr>\n",
       "      <th>75%</th>\n",
       "      <td>218.825000</td>\n",
       "      <td>36.525000</td>\n",
       "      <td>45.100000</td>\n",
       "      <td>17.400000</td>\n",
       "    </tr>\n",
       "    <tr>\n",
       "      <th>max</th>\n",
       "      <td>296.400000</td>\n",
       "      <td>49.600000</td>\n",
       "      <td>114.000000</td>\n",
       "      <td>27.000000</td>\n",
       "    </tr>\n",
       "  </tbody>\n",
       "</table>\n",
       "</div>"
      ],
      "text/plain": [
       "               TV       radio   newspaper       sales\n",
       "count  200.000000  200.000000  200.000000  200.000000\n",
       "mean   147.042500   23.264000   30.554000   14.022500\n",
       "std     85.854236   14.846809   21.778621    5.217457\n",
       "min      0.700000    0.000000    0.300000    1.600000\n",
       "25%     74.375000    9.975000   12.750000   10.375000\n",
       "50%    149.750000   22.900000   25.750000   12.900000\n",
       "75%    218.825000   36.525000   45.100000   17.400000\n",
       "max    296.400000   49.600000  114.000000   27.000000"
      ]
     },
     "execution_count": 4,
     "metadata": {},
     "output_type": "execute_result"
    }
   ],
   "source": [
    "# Get the 5-point statistics for data \n",
    "df.describe()"
   ]
  },
  {
   "cell_type": "code",
   "execution_count": 42,
   "metadata": {},
   "outputs": [],
   "source": [
    "# Describe the contents of this dataset"
   ]
  },
  {
   "cell_type": "markdown",
   "metadata": {},
   "source": [
    "\n"
   ]
  },
  {
   "cell_type": "markdown",
   "metadata": {},
   "source": [
    "### Step 2: Plot histograms with kde overlay to check for the normality of the predictors"
   ]
  },
  {
   "cell_type": "code",
   "execution_count": 5,
   "metadata": {},
   "outputs": [
    {
     "name": "stderr",
     "output_type": "stream",
     "text": [
      "/opt/conda/envs/learn-env/lib/python3.6/site-packages/matplotlib/axes/_axes.py:6521: MatplotlibDeprecationWarning: \n",
      "The 'normed' kwarg was deprecated in Matplotlib 2.1 and will be removed in 3.1. Use 'density' instead.\n",
      "  alternative=\"'density'\", removal=\"3.1\")\n"
     ]
    },
    {
     "data": {
      "image/png": "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\n",
      "text/plain": [
       "<Figure size 432x288 with 1 Axes>"
      ]
     },
     "metadata": {
      "needs_background": "light"
     },
     "output_type": "display_data"
    },
    {
     "name": "stderr",
     "output_type": "stream",
     "text": [
      "/opt/conda/envs/learn-env/lib/python3.6/site-packages/matplotlib/axes/_axes.py:6521: MatplotlibDeprecationWarning: \n",
      "The 'normed' kwarg was deprecated in Matplotlib 2.1 and will be removed in 3.1. Use 'density' instead.\n",
      "  alternative=\"'density'\", removal=\"3.1\")\n"
     ]
    },
    {
     "data": {
      "image/png": "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\n",
      "text/plain": [
       "<Figure size 432x288 with 1 Axes>"
      ]
     },
     "metadata": {
      "needs_background": "light"
     },
     "output_type": "display_data"
    },
    {
     "name": "stderr",
     "output_type": "stream",
     "text": [
      "/opt/conda/envs/learn-env/lib/python3.6/site-packages/matplotlib/axes/_axes.py:6521: MatplotlibDeprecationWarning: \n",
      "The 'normed' kwarg was deprecated in Matplotlib 2.1 and will be removed in 3.1. Use 'density' instead.\n",
      "  alternative=\"'density'\", removal=\"3.1\")\n"
     ]
    },
    {
     "data": {
      "image/png": "iVBORw0KGgoAAAANSUhEUgAAAZgAAAD8CAYAAABKKbKtAAAABHNCSVQICAgIfAhkiAAAAAlwSFlzAAALEgAACxIB0t1+/AAAADl0RVh0U29mdHdhcmUAbWF0cGxvdGxpYiB2ZXJzaW9uIDMuMC4yLCBodHRwOi8vbWF0cGxvdGxpYi5vcmcvOIA7rQAAIABJREFUeJzt3Xt4VNX18PHvmkkI91uIiARNEBBBIECIWsEbBUEtaAGF2grewApS9a0V22r9WW3VqlTrHVERqYBoFRVFERURFIKCCIgECBhADHdQbjOz3j/mJA5hkkxITk4yWZ/nmWfOZe8964xxFvucffYRVcUYY4ypaD6vAzDGGBOfLMEYY4xxhSUYY4wxrrAEY4wxxhWWYIwxxrjCEowxxhhXWIIxxhjjCkswxhhjXGEJxhhjjCsSvA7AS82aNdO0tDSvwzDGmGplyZIl21Q1pbRyNTrBpKWlkZ2d7XUYxhhTrYjIhljK2SkyY4wxrrAEY4wxxhWWYIwxxriiRl+DMSbeHT58mLy8PA4cOOB1KKYaql27NqmpqSQmJh5TfUswxsSxvLw8GjRoQFpaGiLidTimGlFVtm/fTl5eHunp6cfUhp0iMyaOHThwgOTkZEsupsxEhOTk5HL1fi3BGBPnLLmYY1Xevx1LMMYYY1xhCcYYY8rpo48+4uKLLy61XFpaGtu2bauEiKoGu8hvKkXauLfLVT/3vosqKBJjyi8QCJCQYD+fpbEejDHGNbm5uZx66qlcd911dOzYkb59+7J//34A1q5dS79+/ejevTu9evXim2++IRgM0rp1a1SVXbt24fP5mDdvHgC9evUiJyeHjz/+mIyMDDIyMujatSt79+7lo48+4uyzz+bSSy+lQ4cOXH/99YRCIQB+//vfk5mZSceOHfnb3/5WGFtaWhq33XYbWVlZZGVlkZOTA0B+fj6DBg2iR48e9OjRg08//RSAu+66i5EjR9K3b1+uvPLKYo958eLFdO3alXXr1rF9+3b69u1L165dGTVqFKpaWO6ll14iKyuLjIwMRo0aRTAYrNgvvwqwFGxMTfHOOPh+ecW2eXwn6H9fiUXWrFnDyy+/zIQJE7jssst49dVX+e1vf8vIkSN56qmnaNu2LZ9//jk33HADc+fOpV27dqxcuZL169fTvXt3PvnkE04//XTy8vJo06YNN998M48//jhnnXUW+/bto3bt2gAsWrSIlStXctJJJ9GvXz9ee+01Bg8ezL333kvTpk0JBoP07t2br776is6dOwPQsGFDFi1axIsvvshNN93EW2+9xR/+8AduvvlmevbsycaNG7ngggtYtWoVAEuWLGH+/PnUqVMn6rEuWLCAG2+8kTfeeIMTTzyRsWPH0rNnT+68807efvttnnnmGQBWrVrFtGnT+PTTT0lMTOSGG25gypQpJSau6sjVBCMi/YBHAD/wrKreV2R/EvAi0B3YDlyuqrki0ge4D6gFHAJuVdW5Tp3uwAtAHWAW8AdVVRFpCkwD0oBc4DJV3enm8RljSpeenk5GRgYA3bt3Jzc3l3379rFgwQKGDBlSWO7gwYNAuKcyb9481q9fz+23386ECRM455xz6NGjBwBnnXUWt9xyC1dccQW//vWvSU1NBSArK4vWrVsDMGzYMObPn8/gwYOZPn06zzzzDIFAgC1btrBy5crCBDNs2LDC95tvvhmAOXPmsHLlysK49uzZw969ewEYMGBAscll1apVjBw5kvfee48TTjgBgHnz5vHaa68BcNFFF9GkSRMAPvjgA5YsWVJ4TPv37+e444479i+5inItwYiIH3gc6APkAYtFZKaqrowodg2wU1XbiMhQ4H7gcmAb8CtV3SwipwGzgZZOnSeBkcBnhBNMP+AdYBzwga